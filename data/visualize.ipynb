{
 "cells": [
  {
   "cell_type": "code",
   "execution_count": 34,
   "metadata": {},
   "outputs": [],
   "source": [
    "import pandas as pd\n",
    "import matplotlib.pyplot as plt\n",
    "import numpy as np"
   ]
  },
  {
   "cell_type": "code",
   "execution_count": 8,
   "metadata": {},
   "outputs": [],
   "source": [
    "data = pd.read_csv(\"results.csv\")"
   ]
  },
  {
   "cell_type": "code",
   "execution_count": null,
   "metadata": {
    "scrolled": true
   },
   "outputs": [],
   "source": [
    "i = np.divide(np.add.reduceat(data.num__items.values, np.arange(1, len(data.num__items), 5)), 5)\n",
    "a = np.divide(np.add.reduceat(data.c__quicksort.map(lambda x: x*10**3).values, np.arange(1, len(data.num__items), 5)), 5)\n",
    "b = np.divide(np.add.reduceat(data.cpp__quicksort.map(lambda x: x*10**3).values, np.arange(1, len(data.num__items), 5)), 5)\n",
    "c = np.divide(np.add.reduceat(data.rust__sort.map(lambda x: x*10**3).values, np.arange(1, len(data.num__items), 5)), 5)\n",
    "d = np.divide(np.add.reduceat(data.rust__unstable_sort.map(lambda x: x*10**3).values, np.arange(1, len(data.num__items), 5)), 5)\n",
    "plt.plot(i, a, label = \"c quicksort\")\n",
    "plt.plot(i, b, label = \"c++ quicksort\")\n",
    "plt.plot(i, c, label = \"rust sort\")\n",
    "plt.plot(i, d, label = \"rust unstable_sort\")\n",
    "plt.xlabel(\"Items\")\n",
    "plt.ylabel(\"Time, miliseconds\")\n",
    "plt.legend()\n",
    "plt.imsave(\"plot.png\")"
   ]
  },
  {
   "cell_type": "code",
   "execution_count": null,
   "metadata": {},
   "outputs": [],
   "source": []
  }
 ],
 "metadata": {
  "kernelspec": {
   "display_name": "Python 3",
   "language": "python",
   "name": "python3"
  },
  "language_info": {
   "codemirror_mode": {
    "name": "ipython",
    "version": 3
   },
   "file_extension": ".py",
   "mimetype": "text/x-python",
   "name": "python",
   "nbconvert_exporter": "python",
   "pygments_lexer": "ipython3",
   "version": "3.8.2"
  }
 },
 "nbformat": 4,
 "nbformat_minor": 4
}
